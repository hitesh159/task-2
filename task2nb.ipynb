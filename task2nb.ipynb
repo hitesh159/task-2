{
 "cells": [
  {
   "cell_type": "code",
   "execution_count": 17,
   "metadata": {},
   "outputs": [
    {
     "name": "stdout",
     "output_type": "stream",
     "text": [
      "Kolkata Knight Riders\n",
      "Delhi Daredevils\n"
     ]
    }
   ],
   "source": [
    "#Which team has won/lost maximum number of matches while chasing?\n",
    "import pandas as pd\n",
    "df=pd.read_csv(\"matches.csv\")\n",
    "dic={}\n",
    "dic1={}\n",
    "for index,row in df.iterrows():\n",
    "    team=row[\"team2\"]\n",
    "    if team in dic:\n",
    "        if(row[\"winner\"]==team):\n",
    "            dic[team]+=1\n",
    "    else:\n",
    "        if(row[\"winner\"]==team):\n",
    "            dic[team]=1\n",
    "\n",
    "for index,row in df.iterrows():\n",
    "    team=row[\"team2\"]\n",
    "    if team in dic1:\n",
    "        if(row[\"winner\"]!=team):\n",
    "            dic1[team]+=1\n",
    "    else:\n",
    "        if(row[\"winner\"]!=team):\n",
    "            dic1[team]=1\n",
    "            \n",
    "print(max(dic, key=dic.get))\n",
    "print(max(dic1, key=dic1.get))"
   ]
  },
  {
   "cell_type": "code",
   "execution_count": 34,
   "metadata": {},
   "outputs": [
    {
     "name": "stdout",
     "output_type": "stream",
     "text": [
      "{'Rajiv Gandhi International Stadium, Uppal': 'field', 'Maharashtra Cricket Association Stadium': 'field', 'Saurashtra Cricket Association Stadium': 'field', 'Holkar Cricket Stadium': 'field', 'M Chinnaswamy Stadium': 'field', 'Wankhede Stadium': 'field', 'Eden Gardens': 'field', 'Feroz Shah Kotla': 'field', 'Punjab Cricket Association IS Bindra Stadium, Mohali': 'equal', 'Green Park': 'field', 'Punjab Cricket Association Stadium, Mohali': 'field', 'Sawai Mansingh Stadium': 'field', 'MA Chidambaram Stadium, Chepauk': 'bat', 'Dr DY Patil Sports Academy': 'field', 'Newlands': 'bat', \"St George's Park\": 'field', 'Kingsmead': 'bat', 'SuperSport Park': 'field', 'Buffalo Park': 'bat', 'New Wanderers Stadium': 'field', 'De Beers Diamond Oval': 'field', 'OUTsurance Oval': 'equal', 'Brabourne Stadium': 'bat', 'Sardar Patel Stadium, Motera': 'equal', 'Barabati Stadium': 'bat', 'Vidarbha Cricket Association Stadium, Jamtha': 'bat', 'Himachal Pradesh Cricket Association Stadium': 'bat', 'Nehru Stadium': 'bat', 'Dr. Y.S. Rajasekhara Reddy ACA-VDCA Cricket Stadium': 'bat', 'Subrata Roy Sahara Stadium': 'bat', 'Shaheed Veer Narayan Singh International Stadium': 'field', 'JSCA International Stadium Complex': 'field', 'Sheikh Zayed Stadium': 'bat', 'Sharjah Cricket Stadium': 'field', 'Dubai International Cricket Stadium': 'field', 'M. A. Chidambaram Stadium': 'equal', 'Feroz Shah Kotla Ground': 'field', 'M. Chinnaswamy Stadium': 'equal', 'Rajiv Gandhi Intl. Cricket Stadium': 'bat', 'IS Bindra Stadium': 'field', 'ACA-VDCA Stadium': 'field'}\n"
     ]
    }
   ],
   "source": [
    "#Which toss decision is best for each ground?\n",
    "df=pd.read_csv(\"matches.csv\")\n",
    "dic={}\n",
    "for index,row in df.iterrows():\n",
    "    venue=row[\"venue\"]\n",
    "    if venue in dic:\n",
    "        if(row[\"winner\"]==row[\"team1\"]):\n",
    "            dic[venue]+=1\n",
    "        elif row[\"winner\"]==row[\"team2\"]:\n",
    "            dic[venue]-=1\n",
    "    else:\n",
    "        if(row[\"winner\"]==row[\"team1\"]):\n",
    "            dic[venue]=1\n",
    "        elif row[\"winner\"]==row[\"team2\"]:\n",
    "            dic[venue]=-1\n",
    "            \n",
    "#print(dic)\n",
    "for venue in dic:\n",
    "    if dic[venue]<0:\n",
    "        dic[venue]=\"field\"\n",
    "    elif dic[venue]==0:\n",
    "        dic[venue]=\"equal\"\n",
    "    else:\n",
    "        dic[venue]=\"bat\"\n",
    "print(dic)"
   ]
  },
  {
   "cell_type": "code",
   "execution_count": 74,
   "metadata": {},
   "outputs": [
    {
     "name": "stdout",
     "output_type": "stream",
     "text": [
      "YK Pathan\n"
     ]
    }
   ],
   "source": [
    "#Which player has won maximum number of MoM awards while chasing?\n",
    "df_match=pd.read_csv(\"matches.csv\")\n",
    "df_delivery=pd.read_csv(\"deliveries.csv\")\n",
    "dic={}\n",
    "for index,row in df_match.iterrows():\n",
    "    id=row[\"id\"]\n",
    "    team1=row[\"team1\"]\n",
    "    team2=row[\"team2\"]\n",
    "    mom=row[\"player_of_match\"]\n",
    "    df=df_delivery[df_delivery[\"match_id\"]==id]\n",
    "    for index1,row1 in df.iterrows():\n",
    "        bat=row1[\"batsman\"]\n",
    "        ns=row1[\"non_striker\"]\n",
    "        ball=row1[\"bowler\"]\n",
    "        team_bat=row1[\"batting_team\"]\n",
    "        team_ball=row1[\"bowling_team\"]\n",
    "        if (bat==mom and team_bat==team2) or (ball==mom and team_ball==team2) or (ns==mom and team_bat==team2) :\n",
    "            if mom not in dic:\n",
    "                dic[mom]=1\n",
    "            else:\n",
    "                dic[mom]+=1\n",
    "        if bat==mom or ball==mom or ns==mom:\n",
    "            break\n",
    "\n",
    "print(max(dic, key=dic.get))\n",
    "            \n",
    "            \n",
    "        "
   ]
  },
  {
   "cell_type": "code",
   "execution_count": 30,
   "metadata": {},
   "outputs": [
    {
     "name": "stdout",
     "output_type": "stream",
     "text": [
      "batsman    V Kohli\n",
      "counts        1369\n",
      "Name: 477, dtype: object\n"
     ]
    }
   ],
   "source": [
    "#Which batsman has played maximum number of dot balls?\n",
    "df=pd.read_csv(\"deliveries.csv\")\n",
    "dot=df[df[\"total_runs\"]==0]\n",
    "dot=dot.groupby(\"batsman\").size().reset_index(name='counts')\n",
    "ans=dot.loc[dot['counts'].idxmax()]\n",
    "print(ans)"
   ]
  },
  {
   "cell_type": "code",
   "execution_count": 97,
   "metadata": {},
   "outputs": [
    {
     "data": {
      "text/plain": [
       "['A Nel', 'C Ganapathy', 'TP Sudhindra', 'BW Hilfenhaus']"
      ]
     },
     "execution_count": 97,
     "metadata": {},
     "output_type": "execute_result"
    }
   ],
   "source": [
    "#Which batsmen came to crease but never got a chance to face a ball?\n",
    "dic={}\n",
    "df=pd.read_csv(\"deliveries.csv\")\n",
    "ids=list(df.match_id.unique())\n",
    "ans=[]\n",
    "\n",
    "for index,row in df.iterrows():\n",
    "    bats=row[\"batsman\"]\n",
    "    ns=row[\"non_striker\"]\n",
    "    if bats not in dic:\n",
    "        dic[bats]=1\n",
    "    if ns not in dic:\n",
    "        dic[ns]=0\n",
    "    if bats in dic:\n",
    "        dic[bats]=1\n",
    "for bats in dic:\n",
    "    if dic[bats]==0:\n",
    "        ans.append(bats)\n",
    "            \n",
    "ans\n",
    "    "
   ]
  },
  {
   "cell_type": "code",
   "execution_count": 65,
   "metadata": {},
   "outputs": [
    {
     "name": "stdout",
     "output_type": "stream",
     "text": [
      "max number of0conceeded by\n",
      "Harbhajan Singh\n",
      "max number of1conceeded by\n",
      "Harbhajan Singh\n",
      "max number of2conceeded by\n",
      "A Mishra\n",
      "max number of3conceeded by\n",
      "P Kumar\n",
      "max number of4conceeded by\n",
      "UT Yadav\n",
      "max number of5conceeded by\n",
      "AB Dinda\n",
      "max number of6conceeded by\n",
      "PP Chawla\n"
     ]
    }
   ],
   "source": [
    "#Which bowler has hit for maximum number of 1s/2s/3s/4s/6s?\n",
    "df=pd.read_csv(\"deliveries.csv\")\n",
    "dic = {}\n",
    "for index,row in df.iterrows():\n",
    "    runs = str(row['batsman_runs'])\n",
    "    bowler = row['bowler']\n",
    "    if dic.get(runs) == None:\n",
    "        dic[runs] = {}\n",
    "    if dic[runs].get(bowler) == None:\n",
    "        dic[runs][bowler] = 0\n",
    "    dic[runs][bowler] += 1\n",
    "for runs in ['0','1','2','3','4','5','6']:\n",
    "    print(\"max number of\"+runs+\"conceeded by\")\n",
    "    print(max( dic[runs], key=dic[runs].get))        "
   ]
  },
  {
   "cell_type": "code",
   "execution_count": 71,
   "metadata": {},
   "outputs": [
    {
     "name": "stdout",
     "output_type": "stream",
     "text": [
      "SK Raina\n"
     ]
    }
   ],
   "source": [
    "#Which batsman got stumped out maximum number of times?\n",
    "dic = {}\n",
    "for index,row in df.iterrows():\n",
    "    dismissed=row[\"player_dismissed\"]\n",
    "    kind=row[\"dismissal_kind\"]\n",
    "    if kind == \"stumped\":\n",
    "        if dismissed not in dic:\n",
    "            dic[dismissed]=1\n",
    "        else:\n",
    "            dic[dismissed]+=1\n",
    "print(max(dic,key=dic.get))"
   ]
  },
  {
   "cell_type": "code",
   "execution_count": 78,
   "metadata": {},
   "outputs": [
    {
     "name": "stdout",
     "output_type": "stream",
     "text": [
      "KD Karthik\n"
     ]
    }
   ],
   "source": [
    "#Which non-striker has been part of maximum number of runouts?\n",
    "df=pd.read_csv(\"deliveries.csv\")\n",
    "dic = {}\n",
    "for index,row in df.iterrows():\n",
    "    dismissed=row[\"player_dismissed\"]\n",
    "    ns=row[\"non_striker\"]\n",
    "    kind=row[\"dismissal_kind\"]\n",
    "    if kind == \"run out\":\n",
    "        if ns not in dic:\n",
    "            dic[ns]=1\n",
    "        else:\n",
    "            dic[ns]+=1\n",
    "print(max(dic,key=dic.get))"
   ]
  },
  {
   "cell_type": "code",
   "execution_count": 81,
   "metadata": {},
   "outputs": [
    {
     "data": {
      "text/html": [
       "<div>\n",
       "<style scoped>\n",
       "    .dataframe tbody tr th:only-of-type {\n",
       "        vertical-align: middle;\n",
       "    }\n",
       "\n",
       "    .dataframe tbody tr th {\n",
       "        vertical-align: top;\n",
       "    }\n",
       "\n",
       "    .dataframe thead th {\n",
       "        text-align: right;\n",
       "    }\n",
       "</style>\n",
       "<table border=\"1\" class=\"dataframe\">\n",
       "  <thead>\n",
       "    <tr style=\"text-align: right;\">\n",
       "      <th></th>\n",
       "      <th>winner</th>\n",
       "      <th>countwin</th>\n",
       "    </tr>\n",
       "  </thead>\n",
       "  <tbody>\n",
       "    <tr>\n",
       "      <th>0</th>\n",
       "      <td>Chennai Super Kings</td>\n",
       "      <td>100</td>\n",
       "    </tr>\n",
       "    <tr>\n",
       "      <th>1</th>\n",
       "      <td>Deccan Chargers</td>\n",
       "      <td>29</td>\n",
       "    </tr>\n",
       "    <tr>\n",
       "      <th>2</th>\n",
       "      <td>Delhi Capitals</td>\n",
       "      <td>10</td>\n",
       "    </tr>\n",
       "    <tr>\n",
       "      <th>3</th>\n",
       "      <td>Delhi Daredevils</td>\n",
       "      <td>67</td>\n",
       "    </tr>\n",
       "    <tr>\n",
       "      <th>4</th>\n",
       "      <td>Gujarat Lions</td>\n",
       "      <td>13</td>\n",
       "    </tr>\n",
       "    <tr>\n",
       "      <th>5</th>\n",
       "      <td>Kings XI Punjab</td>\n",
       "      <td>82</td>\n",
       "    </tr>\n",
       "    <tr>\n",
       "      <th>6</th>\n",
       "      <td>Kochi Tuskers Kerala</td>\n",
       "      <td>6</td>\n",
       "    </tr>\n",
       "    <tr>\n",
       "      <th>7</th>\n",
       "      <td>Kolkata Knight Riders</td>\n",
       "      <td>92</td>\n",
       "    </tr>\n",
       "    <tr>\n",
       "      <th>8</th>\n",
       "      <td>Mumbai Indians</td>\n",
       "      <td>109</td>\n",
       "    </tr>\n",
       "    <tr>\n",
       "      <th>9</th>\n",
       "      <td>Pune Warriors</td>\n",
       "      <td>12</td>\n",
       "    </tr>\n",
       "    <tr>\n",
       "      <th>10</th>\n",
       "      <td>Rajasthan Royals</td>\n",
       "      <td>75</td>\n",
       "    </tr>\n",
       "    <tr>\n",
       "      <th>11</th>\n",
       "      <td>Rising Pune Supergiant</td>\n",
       "      <td>10</td>\n",
       "    </tr>\n",
       "    <tr>\n",
       "      <th>12</th>\n",
       "      <td>Rising Pune Supergiants</td>\n",
       "      <td>5</td>\n",
       "    </tr>\n",
       "    <tr>\n",
       "      <th>13</th>\n",
       "      <td>Royal Challengers Bangalore</td>\n",
       "      <td>84</td>\n",
       "    </tr>\n",
       "    <tr>\n",
       "      <th>14</th>\n",
       "      <td>Sunrisers Hyderabad</td>\n",
       "      <td>58</td>\n",
       "    </tr>\n",
       "  </tbody>\n",
       "</table>\n",
       "</div>"
      ],
      "text/plain": [
       "                         winner  countwin\n",
       "0           Chennai Super Kings       100\n",
       "1               Deccan Chargers        29\n",
       "2                Delhi Capitals        10\n",
       "3              Delhi Daredevils        67\n",
       "4                 Gujarat Lions        13\n",
       "5               Kings XI Punjab        82\n",
       "6          Kochi Tuskers Kerala         6\n",
       "7         Kolkata Knight Riders        92\n",
       "8                Mumbai Indians       109\n",
       "9                 Pune Warriors        12\n",
       "10             Rajasthan Royals        75\n",
       "11       Rising Pune Supergiant        10\n",
       "12      Rising Pune Supergiants         5\n",
       "13  Royal Challengers Bangalore        84\n",
       "14          Sunrisers Hyderabad        58"
      ]
     },
     "execution_count": 81,
     "metadata": {},
     "output_type": "execute_result"
    }
   ],
   "source": [
    "#total matches won by all teams\n",
    "df=pd.read_csv(\"matches.csv\")\n",
    "winner_series = df.groupby(df.winner).winner.count()\n",
    "winner_df = pd.DataFrame(winner_series)\n",
    "winner_df.columns = ['countwin']\n",
    "winner_df.reset_index(inplace=True)\n",
    "win_sorted = winner_df.countwin\n",
    "winner_df"
   ]
  },
  {
   "cell_type": "code",
   "execution_count": 82,
   "metadata": {},
   "outputs": [
    {
     "data": {
      "text/plain": [
       "toss_winner\n",
       "Chennai Super Kings            89\n",
       "Deccan Chargers                43\n",
       "Delhi Capitals                 10\n",
       "Delhi Daredevils               80\n",
       "Gujarat Lions                  15\n",
       "Kings XI Punjab                81\n",
       "Kochi Tuskers Kerala            8\n",
       "Kolkata Knight Riders          92\n",
       "Mumbai Indians                 98\n",
       "Pune Warriors                  20\n",
       "Rajasthan Royals               80\n",
       "Rising Pune Supergiant          6\n",
       "Rising Pune Supergiants         7\n",
       "Royal Challengers Bangalore    81\n",
       "Sunrisers Hyderabad            46\n",
       "Name: toss_winner, dtype: int64"
      ]
     },
     "execution_count": 82,
     "metadata": {},
     "output_type": "execute_result"
    }
   ],
   "source": [
    "#Total toss won by all teams\n",
    "df.groupby(df.toss_winner).toss_winner.count()"
   ]
  },
  {
   "cell_type": "code",
   "execution_count": 83,
   "metadata": {},
   "outputs": [
    {
     "data": {
      "text/plain": [
       "batting_team\n",
       "Chennai Super Kings            26418\n",
       "Deccan Chargers                11463\n",
       "Delhi Capitals                  2630\n",
       "Delhi Daredevils               24388\n",
       "Gujarat Lions                   4862\n",
       "Kings XI Punjab                27893\n",
       "Kochi Tuskers Kerala            1901\n",
       "Kolkata Knight Riders          27419\n",
       "Mumbai Indians                 29809\n",
       "Pune Warriors                   6358\n",
       "Rajasthan Royals               22431\n",
       "Rising Pune Supergiant          2470\n",
       "Rising Pune Supergiants         2063\n",
       "Royal Challengers Bangalore    28126\n",
       "Sunrisers Hyderabad            17059\n",
       "Name: total_runs, dtype: int64"
      ]
     },
     "execution_count": 83,
     "metadata": {},
     "output_type": "execute_result"
    }
   ],
   "source": [
    "#teamwise total runs scored\n",
    "df=pd.read_csv(\"deliveries.csv\")\n",
    "df.groupby(df.batting_team).total_runs.sum()"
   ]
  },
  {
   "cell_type": "code",
   "execution_count": 92,
   "metadata": {},
   "outputs": [
    {
     "data": {
      "text/html": [
       "<div>\n",
       "<style scoped>\n",
       "    .dataframe tbody tr th:only-of-type {\n",
       "        vertical-align: middle;\n",
       "    }\n",
       "\n",
       "    .dataframe tbody tr th {\n",
       "        vertical-align: top;\n",
       "    }\n",
       "\n",
       "    .dataframe thead th {\n",
       "        text-align: right;\n",
       "    }\n",
       "</style>\n",
       "<table border=\"1\" class=\"dataframe\">\n",
       "  <thead>\n",
       "    <tr style=\"text-align: right;\">\n",
       "      <th></th>\n",
       "      <th>dismissal_kind</th>\n",
       "      <th>counts</th>\n",
       "    </tr>\n",
       "  </thead>\n",
       "  <tbody>\n",
       "    <tr>\n",
       "      <th>0</th>\n",
       "      <td>bowled</td>\n",
       "      <td>1581</td>\n",
       "    </tr>\n",
       "    <tr>\n",
       "      <th>1</th>\n",
       "      <td>caught</td>\n",
       "      <td>5348</td>\n",
       "    </tr>\n",
       "    <tr>\n",
       "      <th>2</th>\n",
       "      <td>caught and bowled</td>\n",
       "      <td>211</td>\n",
       "    </tr>\n",
       "    <tr>\n",
       "      <th>3</th>\n",
       "      <td>hit wicket</td>\n",
       "      <td>10</td>\n",
       "    </tr>\n",
       "    <tr>\n",
       "      <th>4</th>\n",
       "      <td>lbw</td>\n",
       "      <td>540</td>\n",
       "    </tr>\n",
       "    <tr>\n",
       "      <th>5</th>\n",
       "      <td>obstructing the field</td>\n",
       "      <td>2</td>\n",
       "    </tr>\n",
       "    <tr>\n",
       "      <th>6</th>\n",
       "      <td>retired hurt</td>\n",
       "      <td>12</td>\n",
       "    </tr>\n",
       "    <tr>\n",
       "      <th>7</th>\n",
       "      <td>run out</td>\n",
       "      <td>852</td>\n",
       "    </tr>\n",
       "    <tr>\n",
       "      <th>8</th>\n",
       "      <td>stumped</td>\n",
       "      <td>278</td>\n",
       "    </tr>\n",
       "  </tbody>\n",
       "</table>\n",
       "</div>"
      ],
      "text/plain": [
       "          dismissal_kind  counts\n",
       "0                 bowled    1581\n",
       "1                 caught    5348\n",
       "2      caught and bowled     211\n",
       "3             hit wicket      10\n",
       "4                    lbw     540\n",
       "5  obstructing the field       2\n",
       "6           retired hurt      12\n",
       "7                run out     852\n",
       "8                stumped     278"
      ]
     },
     "execution_count": 92,
     "metadata": {},
     "output_type": "execute_result"
    }
   ],
   "source": [
    "#count of type of dismissals\n",
    "df=pd.read_csv(\"deliveries.csv\")\n",
    "temp1 = df.groupby(df.dismissal_kind).size().reset_index(name='counts')\n",
    "temp1"
   ]
  },
  {
   "cell_type": "code",
   "execution_count": 96,
   "metadata": {},
   "outputs": [
    {
     "data": {
      "text/plain": [
       "bowling_team\n",
       "Kings XI Punjab                828\n",
       "Mumbai Indians                 824\n",
       "Kolkata Knight Riders          820\n",
       "Royal Challengers Bangalore    663\n",
       "Rajasthan Royals               620\n",
       "Delhi Daredevils               507\n",
       "Sunrisers Hyderabad            441\n",
       "Deccan Chargers                310\n",
       "Pune Warriors                  127\n",
       "Delhi Capitals                 105\n",
       "Kochi Tuskers Kerala            69\n",
       "Rising Pune Supergiants         58\n",
       "Rising Pune Supergiant          43\n",
       "Name: batsman_runs, dtype: int64"
      ]
     },
     "execution_count": 96,
     "metadata": {},
     "output_type": "execute_result"
    }
   ],
   "source": [
    "#Total runs scored by suresh raina against various teams\n",
    "df=pd.read_csv(\"deliveries.csv\")\n",
    "df = df.loc[df.batsman == 'SK Raina']\n",
    "df.groupby(df.bowling_team).batsman_runs.sum().sort_values(ascending=False)"
   ]
  }
 ],
 "metadata": {
  "kernelspec": {
   "display_name": "Python 3",
   "language": "python",
   "name": "python3"
  },
  "language_info": {
   "codemirror_mode": {
    "name": "ipython",
    "version": 3
   },
   "file_extension": ".py",
   "mimetype": "text/x-python",
   "name": "python",
   "nbconvert_exporter": "python",
   "pygments_lexer": "ipython3",
   "version": "3.6.4"
  }
 },
 "nbformat": 4,
 "nbformat_minor": 2
}
