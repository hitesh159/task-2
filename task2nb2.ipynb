{
 "cells": [
  {
   "cell_type": "code",
   "execution_count": 167,
   "metadata": {},
   "outputs": [],
   "source": [
    "import pandas as pd\n",
    "df=pd.read_csv(\"testset.csv\")"
   ]
  },
  {
   "cell_type": "code",
   "execution_count": 168,
   "metadata": {},
   "outputs": [
    {
     "name": "stdout",
     "output_type": "stream",
     "text": [
      "                     _conds   _dewptm   _fog   _hail   _heatindexm   _hum  \\\n",
      "datetime_utc                                                                \n",
      "1996-11-01 11:00:00   Smoke       9.0      0       0      35.65171   27.0   \n",
      "1996-11-01 12:00:00   Smoke      10.0      0       0      35.65171   32.0   \n",
      "1996-11-01 13:00:00   Smoke      11.0      0       0      35.65171   44.0   \n",
      "1996-11-01 14:00:00   Smoke      10.0      0       0      35.65171   41.0   \n",
      "1996-11-01 16:00:00   Smoke      11.0      0       0      35.65171   47.0   \n",
      "\n",
      "                      _pressurem   _rain   _snow   _tempm   _thunder  \\\n",
      "datetime_utc                                                           \n",
      "1996-11-01 11:00:00       1010.0       0       0     30.0          0   \n",
      "1996-11-01 12:00:00      -9999.0       0       0     28.0          0   \n",
      "1996-11-01 13:00:00      -9999.0       0       0     24.0          0   \n",
      "1996-11-01 14:00:00       1010.0       0       0     24.0          0   \n",
      "1996-11-01 16:00:00       1011.0       0       0     23.0          0   \n",
      "\n",
      "                      _tornado     _vism   _wdird  _wdire    _wgustm  \\\n",
      "datetime_utc                                                           \n",
      "1996-11-01 11:00:00          0  5.000000    280.0    West  37.671175   \n",
      "1996-11-01 12:00:00          0  2.402774      0.0   North  37.671175   \n",
      "1996-11-01 13:00:00          0  2.402774      0.0   North  37.671175   \n",
      "1996-11-01 14:00:00          0  2.000000      0.0   North  37.671175   \n",
      "1996-11-01 16:00:00          0  1.200000      0.0   North  37.671175   \n",
      "\n",
      "                      _windchillm    _wspdm  \n",
      "datetime_utc                                 \n",
      "1996-11-01 11:00:00      5.713817  7.400000  \n",
      "1996-11-01 12:00:00      5.713817  7.678463  \n",
      "1996-11-01 13:00:00      5.713817  7.678463  \n",
      "1996-11-01 14:00:00      5.713817  7.678463  \n",
      "1996-11-01 16:00:00      5.713817  0.000000  \n"
     ]
    }
   ],
   "source": [
    "\n",
    "from scipy import stats\n",
    "import numpy as np\n",
    "#cleaning the data\n",
    "df['datetime_utc'] = pd.to_datetime(df['datetime_utc'])\n",
    "df.set_index('datetime_utc', inplace=True)\n",
    "df=df.fillna(df.mean())\n",
    "df=df.drop(' _precipm',axis=1)\n",
    "print(df.head())\n",
    "\n"
   ]
  },
  {
   "cell_type": "code",
   "execution_count": 169,
   "metadata": {},
   "outputs": [
    {
     "data": {
      "text/html": [
       "<div>\n",
       "<style scoped>\n",
       "    .dataframe tbody tr th:only-of-type {\n",
       "        vertical-align: middle;\n",
       "    }\n",
       "\n",
       "    .dataframe tbody tr th {\n",
       "        vertical-align: top;\n",
       "    }\n",
       "\n",
       "    .dataframe thead th {\n",
       "        text-align: right;\n",
       "    }\n",
       "</style>\n",
       "<table border=\"1\" class=\"dataframe\">\n",
       "  <thead>\n",
       "    <tr style=\"text-align: right;\">\n",
       "      <th></th>\n",
       "      <th>_dewptm</th>\n",
       "      <th>_fog</th>\n",
       "      <th>_hail</th>\n",
       "      <th>_heatindexm</th>\n",
       "      <th>_hum</th>\n",
       "      <th>_pressurem</th>\n",
       "      <th>_rain</th>\n",
       "      <th>_snow</th>\n",
       "      <th>_tempm</th>\n",
       "      <th>_thunder</th>\n",
       "      <th>_tornado</th>\n",
       "      <th>_vism</th>\n",
       "      <th>_wdird</th>\n",
       "      <th>_wgustm</th>\n",
       "      <th>_windchillm</th>\n",
       "      <th>_wspdm</th>\n",
       "    </tr>\n",
       "    <tr>\n",
       "      <th>datetime_utc</th>\n",
       "      <th></th>\n",
       "      <th></th>\n",
       "      <th></th>\n",
       "      <th></th>\n",
       "      <th></th>\n",
       "      <th></th>\n",
       "      <th></th>\n",
       "      <th></th>\n",
       "      <th></th>\n",
       "      <th></th>\n",
       "      <th></th>\n",
       "      <th></th>\n",
       "      <th></th>\n",
       "      <th></th>\n",
       "      <th></th>\n",
       "      <th></th>\n",
       "    </tr>\n",
       "  </thead>\n",
       "  <tbody>\n",
       "    <tr>\n",
       "      <th>1996-11-01</th>\n",
       "      <td>11.666667</td>\n",
       "      <td>0.0</td>\n",
       "      <td>0.0</td>\n",
       "      <td>35.651710</td>\n",
       "      <td>52.916667</td>\n",
       "      <td>-2659.666667</td>\n",
       "      <td>0.0</td>\n",
       "      <td>0.0</td>\n",
       "      <td>22.333333</td>\n",
       "      <td>0.0</td>\n",
       "      <td>0.0</td>\n",
       "      <td>2.351849</td>\n",
       "      <td>23.333333</td>\n",
       "      <td>37.671175</td>\n",
       "      <td>5.713817</td>\n",
       "      <td>6.375514</td>\n",
       "    </tr>\n",
       "    <tr>\n",
       "      <th>1996-11-02</th>\n",
       "      <td>10.458333</td>\n",
       "      <td>0.0</td>\n",
       "      <td>0.0</td>\n",
       "      <td>35.651710</td>\n",
       "      <td>48.625000</td>\n",
       "      <td>1009.833333</td>\n",
       "      <td>0.0</td>\n",
       "      <td>0.0</td>\n",
       "      <td>22.916667</td>\n",
       "      <td>0.0</td>\n",
       "      <td>0.0</td>\n",
       "      <td>3.342013</td>\n",
       "      <td>106.666667</td>\n",
       "      <td>37.671175</td>\n",
       "      <td>5.713817</td>\n",
       "      <td>7.984808</td>\n",
       "    </tr>\n",
       "    <tr>\n",
       "      <th>1996-11-03</th>\n",
       "      <td>12.041667</td>\n",
       "      <td>0.0</td>\n",
       "      <td>0.0</td>\n",
       "      <td>35.282889</td>\n",
       "      <td>55.958333</td>\n",
       "      <td>1010.500000</td>\n",
       "      <td>0.0</td>\n",
       "      <td>0.0</td>\n",
       "      <td>21.791667</td>\n",
       "      <td>0.0</td>\n",
       "      <td>0.0</td>\n",
       "      <td>2.296064</td>\n",
       "      <td>106.666667</td>\n",
       "      <td>37.671175</td>\n",
       "      <td>5.713817</td>\n",
       "      <td>5.044039</td>\n",
       "    </tr>\n",
       "    <tr>\n",
       "      <th>1996-11-04</th>\n",
       "      <td>10.222222</td>\n",
       "      <td>0.0</td>\n",
       "      <td>0.0</td>\n",
       "      <td>35.198837</td>\n",
       "      <td>48.055556</td>\n",
       "      <td>1011.333333</td>\n",
       "      <td>0.0</td>\n",
       "      <td>0.0</td>\n",
       "      <td>22.722222</td>\n",
       "      <td>0.0</td>\n",
       "      <td>0.0</td>\n",
       "      <td>2.339351</td>\n",
       "      <td>55.555556</td>\n",
       "      <td>37.671175</td>\n",
       "      <td>5.713817</td>\n",
       "      <td>2.282137</td>\n",
       "    </tr>\n",
       "    <tr>\n",
       "      <th>1996-11-05</th>\n",
       "      <td>8.200000</td>\n",
       "      <td>0.0</td>\n",
       "      <td>0.0</td>\n",
       "      <td>35.651710</td>\n",
       "      <td>29.400000</td>\n",
       "      <td>1011.800000</td>\n",
       "      <td>0.0</td>\n",
       "      <td>0.0</td>\n",
       "      <td>27.800000</td>\n",
       "      <td>0.0</td>\n",
       "      <td>0.0</td>\n",
       "      <td>3.900000</td>\n",
       "      <td>208.000000</td>\n",
       "      <td>37.671175</td>\n",
       "      <td>5.713817</td>\n",
       "      <td>10.020000</td>\n",
       "    </tr>\n",
       "  </tbody>\n",
       "</table>\n",
       "</div>"
      ],
      "text/plain": [
       "                _dewptm   _fog   _hail   _heatindexm       _hum   _pressurem  \\\n",
       "datetime_utc                                                                   \n",
       "1996-11-01    11.666667    0.0     0.0     35.651710  52.916667 -2659.666667   \n",
       "1996-11-02    10.458333    0.0     0.0     35.651710  48.625000  1009.833333   \n",
       "1996-11-03    12.041667    0.0     0.0     35.282889  55.958333  1010.500000   \n",
       "1996-11-04    10.222222    0.0     0.0     35.198837  48.055556  1011.333333   \n",
       "1996-11-05     8.200000    0.0     0.0     35.651710  29.400000  1011.800000   \n",
       "\n",
       "               _rain   _snow     _tempm   _thunder   _tornado     _vism  \\\n",
       "datetime_utc                                                              \n",
       "1996-11-01       0.0     0.0  22.333333        0.0        0.0  2.351849   \n",
       "1996-11-02       0.0     0.0  22.916667        0.0        0.0  3.342013   \n",
       "1996-11-03       0.0     0.0  21.791667        0.0        0.0  2.296064   \n",
       "1996-11-04       0.0     0.0  22.722222        0.0        0.0  2.339351   \n",
       "1996-11-05       0.0     0.0  27.800000        0.0        0.0  3.900000   \n",
       "\n",
       "                  _wdird    _wgustm   _windchillm     _wspdm  \n",
       "datetime_utc                                                  \n",
       "1996-11-01     23.333333  37.671175      5.713817   6.375514  \n",
       "1996-11-02    106.666667  37.671175      5.713817   7.984808  \n",
       "1996-11-03    106.666667  37.671175      5.713817   5.044039  \n",
       "1996-11-04     55.555556  37.671175      5.713817   2.282137  \n",
       "1996-11-05    208.000000  37.671175      5.713817  10.020000  "
      ]
     },
     "execution_count": 169,
     "metadata": {},
     "output_type": "execute_result"
    }
   ],
   "source": [
    "graph_df=df.resample('D').mean()\n",
    "graph_df.head()\n"
   ]
  },
  {
   "cell_type": "code",
   "execution_count": 170,
   "metadata": {},
   "outputs": [],
   "source": [
    "num_train = graph_df.select_dtypes(include=[\"number\"])"
   ]
  },
  {
   "cell_type": "code",
   "execution_count": 171,
   "metadata": {},
   "outputs": [
    {
     "name": "stderr",
     "output_type": "stream",
     "text": [
      "C:\\Users\\hitesh\\Anaconda3\\lib\\site-packages\\ipykernel_launcher.py:2: RuntimeWarning: invalid value encountered in less\n",
      "  \n"
     ]
    }
   ],
   "source": [
    "#removing outliers\n",
    "idx = np.all(stats.zscore(num_train) < 3, axis=1)"
   ]
  },
  {
   "cell_type": "code",
   "execution_count": 172,
   "metadata": {},
   "outputs": [
    {
     "data": {
      "text/html": [
       "<div>\n",
       "<style scoped>\n",
       "    .dataframe tbody tr th:only-of-type {\n",
       "        vertical-align: middle;\n",
       "    }\n",
       "\n",
       "    .dataframe tbody tr th {\n",
       "        vertical-align: top;\n",
       "    }\n",
       "\n",
       "    .dataframe thead th {\n",
       "        text-align: right;\n",
       "    }\n",
       "</style>\n",
       "<table border=\"1\" class=\"dataframe\">\n",
       "  <thead>\n",
       "    <tr style=\"text-align: right;\">\n",
       "      <th></th>\n",
       "      <th>_dewptm</th>\n",
       "      <th>_fog</th>\n",
       "      <th>_hail</th>\n",
       "      <th>_heatindexm</th>\n",
       "      <th>_hum</th>\n",
       "      <th>_pressurem</th>\n",
       "      <th>_rain</th>\n",
       "      <th>_snow</th>\n",
       "      <th>_tempm</th>\n",
       "      <th>_thunder</th>\n",
       "      <th>_tornado</th>\n",
       "      <th>_vism</th>\n",
       "      <th>_wdird</th>\n",
       "      <th>_wgustm</th>\n",
       "      <th>_windchillm</th>\n",
       "      <th>_wspdm</th>\n",
       "    </tr>\n",
       "    <tr>\n",
       "      <th>datetime_utc</th>\n",
       "      <th></th>\n",
       "      <th></th>\n",
       "      <th></th>\n",
       "      <th></th>\n",
       "      <th></th>\n",
       "      <th></th>\n",
       "      <th></th>\n",
       "      <th></th>\n",
       "      <th></th>\n",
       "      <th></th>\n",
       "      <th></th>\n",
       "      <th></th>\n",
       "      <th></th>\n",
       "      <th></th>\n",
       "      <th></th>\n",
       "      <th></th>\n",
       "    </tr>\n",
       "  </thead>\n",
       "  <tbody>\n",
       "    <tr>\n",
       "      <th>1996-11-01</th>\n",
       "      <td>11.666667</td>\n",
       "      <td>0.0</td>\n",
       "      <td>0.0</td>\n",
       "      <td>35.651710</td>\n",
       "      <td>52.916667</td>\n",
       "      <td>-2659.666667</td>\n",
       "      <td>0.0</td>\n",
       "      <td>0.0</td>\n",
       "      <td>22.333333</td>\n",
       "      <td>0.0</td>\n",
       "      <td>0.0</td>\n",
       "      <td>2.351849</td>\n",
       "      <td>23.333333</td>\n",
       "      <td>37.671175</td>\n",
       "      <td>5.713817</td>\n",
       "      <td>6.375514</td>\n",
       "    </tr>\n",
       "    <tr>\n",
       "      <th>1996-11-02</th>\n",
       "      <td>10.458333</td>\n",
       "      <td>0.0</td>\n",
       "      <td>0.0</td>\n",
       "      <td>35.651710</td>\n",
       "      <td>48.625000</td>\n",
       "      <td>1009.833333</td>\n",
       "      <td>0.0</td>\n",
       "      <td>0.0</td>\n",
       "      <td>22.916667</td>\n",
       "      <td>0.0</td>\n",
       "      <td>0.0</td>\n",
       "      <td>3.342013</td>\n",
       "      <td>106.666667</td>\n",
       "      <td>37.671175</td>\n",
       "      <td>5.713817</td>\n",
       "      <td>7.984808</td>\n",
       "    </tr>\n",
       "    <tr>\n",
       "      <th>1996-11-03</th>\n",
       "      <td>12.041667</td>\n",
       "      <td>0.0</td>\n",
       "      <td>0.0</td>\n",
       "      <td>35.282889</td>\n",
       "      <td>55.958333</td>\n",
       "      <td>1010.500000</td>\n",
       "      <td>0.0</td>\n",
       "      <td>0.0</td>\n",
       "      <td>21.791667</td>\n",
       "      <td>0.0</td>\n",
       "      <td>0.0</td>\n",
       "      <td>2.296064</td>\n",
       "      <td>106.666667</td>\n",
       "      <td>37.671175</td>\n",
       "      <td>5.713817</td>\n",
       "      <td>5.044039</td>\n",
       "    </tr>\n",
       "    <tr>\n",
       "      <th>1996-11-04</th>\n",
       "      <td>10.222222</td>\n",
       "      <td>0.0</td>\n",
       "      <td>0.0</td>\n",
       "      <td>35.198837</td>\n",
       "      <td>48.055556</td>\n",
       "      <td>1011.333333</td>\n",
       "      <td>0.0</td>\n",
       "      <td>0.0</td>\n",
       "      <td>22.722222</td>\n",
       "      <td>0.0</td>\n",
       "      <td>0.0</td>\n",
       "      <td>2.339351</td>\n",
       "      <td>55.555556</td>\n",
       "      <td>37.671175</td>\n",
       "      <td>5.713817</td>\n",
       "      <td>2.282137</td>\n",
       "    </tr>\n",
       "    <tr>\n",
       "      <th>1996-11-05</th>\n",
       "      <td>8.200000</td>\n",
       "      <td>0.0</td>\n",
       "      <td>0.0</td>\n",
       "      <td>35.651710</td>\n",
       "      <td>29.400000</td>\n",
       "      <td>1011.800000</td>\n",
       "      <td>0.0</td>\n",
       "      <td>0.0</td>\n",
       "      <td>27.800000</td>\n",
       "      <td>0.0</td>\n",
       "      <td>0.0</td>\n",
       "      <td>3.900000</td>\n",
       "      <td>208.000000</td>\n",
       "      <td>37.671175</td>\n",
       "      <td>5.713817</td>\n",
       "      <td>10.020000</td>\n",
       "    </tr>\n",
       "  </tbody>\n",
       "</table>\n",
       "</div>"
      ],
      "text/plain": [
       "                _dewptm   _fog   _hail   _heatindexm       _hum   _pressurem  \\\n",
       "datetime_utc                                                                   \n",
       "1996-11-01    11.666667    0.0     0.0     35.651710  52.916667 -2659.666667   \n",
       "1996-11-02    10.458333    0.0     0.0     35.651710  48.625000  1009.833333   \n",
       "1996-11-03    12.041667    0.0     0.0     35.282889  55.958333  1010.500000   \n",
       "1996-11-04    10.222222    0.0     0.0     35.198837  48.055556  1011.333333   \n",
       "1996-11-05     8.200000    0.0     0.0     35.651710  29.400000  1011.800000   \n",
       "\n",
       "               _rain   _snow     _tempm   _thunder   _tornado     _vism  \\\n",
       "datetime_utc                                                              \n",
       "1996-11-01       0.0     0.0  22.333333        0.0        0.0  2.351849   \n",
       "1996-11-02       0.0     0.0  22.916667        0.0        0.0  3.342013   \n",
       "1996-11-03       0.0     0.0  21.791667        0.0        0.0  2.296064   \n",
       "1996-11-04       0.0     0.0  22.722222        0.0        0.0  2.339351   \n",
       "1996-11-05       0.0     0.0  27.800000        0.0        0.0  3.900000   \n",
       "\n",
       "                  _wdird    _wgustm   _windchillm     _wspdm  \n",
       "datetime_utc                                                  \n",
       "1996-11-01     23.333333  37.671175      5.713817   6.375514  \n",
       "1996-11-02    106.666667  37.671175      5.713817   7.984808  \n",
       "1996-11-03    106.666667  37.671175      5.713817   5.044039  \n",
       "1996-11-04     55.555556  37.671175      5.713817   2.282137  \n",
       "1996-11-05    208.000000  37.671175      5.713817  10.020000  "
      ]
     },
     "execution_count": 172,
     "metadata": {},
     "output_type": "execute_result"
    }
   ],
   "source": [
    "num_train.head()"
   ]
  },
  {
   "cell_type": "code",
   "execution_count": 173,
   "metadata": {},
   "outputs": [
    {
     "data": {
      "text/plain": [
       "<matplotlib.axes._subplots.AxesSubplot at 0x1c8ca61e780>"
      ]
     },
     "execution_count": 173,
     "metadata": {},
     "output_type": "execute_result"
    },
    {
     "data": {
      "image/png": "[encoded data removed]",
      "text/plain": [
       "<matplotlib.figure.Figure at 0x1c8bc5210b8>"
      ]
     },
     "metadata": {},
     "output_type": "display_data"
    }
   ],
   "source": [
    "#plotting graphs\n",
    "import matplotlib.pyplot as plt\n",
    "num_train.resample('Y').mean().plot(y=\" _rain\")"
   ]
  },
  {
   "cell_type": "code",
   "execution_count": 174,
   "metadata": {},
   "outputs": [
    {
     "data": {
      "text/plain": [
       "Text(0.5,0,'_dewptm')"
      ]
     },
     "execution_count": 174,
     "metadata": {},
     "output_type": "execute_result"
    },
    {
     "data": {
      "image/png": "[encoded data removed]",
      "text/plain": [
       "<matplotlib.figure.Figure at 0x1c8cca1dba8>"
      ]
     },
     "metadata": {},
     "output_type": "display_data"
    }
   ],
   "source": [
    "num_train.resample('M').mean()[2:14].plot(y=\" _dewptm\")\n",
    "plt.xlabel(\"_dewptm\")"
   ]
  },
  {
   "cell_type": "code",
   "execution_count": 175,
   "metadata": {},
   "outputs": [
    {
     "data": {
      "text/plain": [
       "Text(0.5,0,'month')"
      ]
     },
     "execution_count": 175,
     "metadata": {},
     "output_type": "execute_result"
    },
    {
     "data": {
      "image/png": "[encoded data removed]",
      "text/plain": [
       "<matplotlib.figure.Figure at 0x1c8ca62a198>"
      ]
     },
     "metadata": {},
     "output_type": "display_data"
    }
   ],
   "source": [
    "num_train.resample('M').mean()[2:14].plot(y=\" _fog\")\n",
    "plt.xlabel(\"month\")"
   ]
  },
  {
   "cell_type": "code",
   "execution_count": 176,
   "metadata": {},
   "outputs": [
    {
     "data": {
      "image/png": "[encoded data removed]",
      "text/plain": [
       "<matplotlib.figure.Figure at 0x1c8ca62e668>"
      ]
     },
     "metadata": {},
     "output_type": "display_data"
    }
   ],
   "source": [
    "# pie chart of nov 1996\n",
    "dic={}\n",
    "df=pd.read_csv(\"testset.csv\")\n",
    "\n",
    "for i in df[\" _conds\"][:612]:\n",
    "    if i not in dic:\n",
    "        dic[i]=1\n",
    "    else:\n",
    "        dic[i]+=1\n",
    "plt.pie(list(dic.values()),labels=list(dic.keys()))\n",
    "plt.show()\n",
    "\n",
    "    \n",
    "    "
   ]
  },
  {
   "cell_type": "code",
   "execution_count": 177,
   "metadata": {},
   "outputs": [
    {
     "data": {
      "image/png": "[encoded data removed]",
      "text/plain": [
       "<matplotlib.figure.Figure at 0x1c8ca59fe48>"
      ]
     },
     "metadata": {},
     "output_type": "display_data"
    }
   ],
   "source": [
    "#pie chaart for feb 1997\n",
    "dic={}\n",
    "for i in df[\" _conds\"][1932:2491]:\n",
    "    if i not in dic:\n",
    "        dic[i]=1\n",
    "    else:\n",
    "        dic[i]+=1\n",
    "plt.pie(list(dic.values()),labels=list(dic.keys()))\n",
    "plt.show()"
   ]
  }
 ],
 "metadata": {
  "kernelspec": {
   "display_name": "Python 3",
   "language": "python",
   "name": "python3"
  },
  "language_info": {
   "codemirror_mode": {
    "name": "ipython",
    "version": 3
   },
   "file_extension": ".py",
   "mimetype": "text/x-python",
   "name": "python",
   "nbconvert_exporter": "python",
   "pygments_lexer": "ipython3",
   "version": "3.6.4"
  }
 },
 "nbformat": 4,
 "nbformat_minor": 2
}
